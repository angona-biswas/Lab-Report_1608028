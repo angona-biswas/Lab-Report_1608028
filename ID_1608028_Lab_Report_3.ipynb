{
  "nbformat": 4,
  "nbformat_minor": 0,
  "metadata": {
    "colab": {
      "name": "ID 1608028_Lab Report 3.ipynb",
      "provenance": [],
      "collapsed_sections": [],
      "authorship_tag": "ABX9TyOXvsmemXme3WGOty0oFwe5",
      "include_colab_link": true
    },
    "kernelspec": {
      "name": "python3",
      "display_name": "Python 3"
    },
    "language_info": {
      "name": "python"
    }
  },
  "cells": [
    {
      "cell_type": "markdown",
      "metadata": {
        "id": "view-in-github",
        "colab_type": "text"
      },
      "source": [
        "<a href=\"https://colab.research.google.com/github/angona-biswas/Lab-Report_1608028/blob/main/ID_1608028_Lab_Report_3.ipynb\" target=\"_parent\"><img src=\"https://colab.research.google.com/assets/colab-badge.svg\" alt=\"Open In Colab\"/></a>"
      ]
    },
    {
      "cell_type": "markdown",
      "metadata": {
        "id": "Q30pJUgw60mX"
      },
      "source": [
        "## **Chittagong University of Engineering & Technology**\n",
        "\n",
        "\n",
        "*Department of*\n",
        "\n",
        "# Electronics & Telecommunication Engineering\n",
        "\n",
        "Course Code: ETE 456\n",
        "\n",
        "Course Title: Machine Learning Sessional\n",
        "\n",
        "Report No.: 3\n",
        "\n",
        "Experiment Name: Introduction to Deep Neural Network (DNN)\n",
        "\n",
        "**Pericular task **\n",
        "\n",
        "Experiment Date: 1.12.2021\n",
        "\n",
        "Submission Date: 20. 12. 2021\n",
        "\n",
        "Submitted To:  Lecturer, Eftekhar Hossain\n",
        "\n",
        "Submitted By: \n",
        "\n",
        "\n",
        "\n",
        "\tName: Angona Biswas\n",
        "\t  ID: 1608028\n",
        "     Level: 4\n",
        "     Term: II\n",
        "\n",
        "\n",
        "> **OBJECTIVES:** \n",
        " 1. To familiar with classification problems using different Machine Learning classification algorithms.\n",
        " 2. To apply various classification algorithms on a real world dataset.\n",
        " 3. To familiar with classification problems using Deep Neural Network. \n",
        " 2. To develop DNN models using Tensorflow Framework.\n",
        "\n",
        " > **KEY FINDINGS OF THIS EXPERIMENT:**\n",
        "\n",
        " The workflow of this experiment is written using bullet points: \n",
        " 1. Importing the functions, dataset load, dataset read.\n",
        " 2. Data Preprocessing: Checking the missing value of the dataset and handling the missing values if there is.\n",
        " 3. Declaring features and target of this dataset.\n",
        " 4. Data Preprocessing: Encoding the categorical data using One Hot Encoding and Level Encoding. Declaring the new converted features again for clasification. \n",
        " 5. Data Spliting for training and test, where 80% data is taken for training and 20% data for test. \n",
        " 6. Data Preprocessing: Data normalizing if necessary and observe the further effect.\n",
        " 7. Fitting the classifier models (Logistic Regession, K-Nearest Neighbour, Support Vector Machine, Decision Tree, Random Forest Classifier and Gaussian Naive Bayes) for  train dataset.\n",
        " 8. Making prediction based on these models with test data and plot the confusin matrices and evaluate other evaluation parameters.\n",
        " 9. Building a multilayer neural network with Tensorflow Keras. \n",
        " 10. Training the DNN model and observe the test result of the model.\n",
        " 11. For more analysis, number of neurons and hidden layes are changes and the classification performance is observed.  \n",
        " 12. Conclude the all types of analysis at the 'CONCLUSION' section. \n",
        "\n",
        "\n",
        " \n",
        "\n",
        "\n",
        "**CODE AND OUTPUTS:** "
      ]
    },
    {
      "cell_type": "code",
      "metadata": {
        "id": "j_TqCpDQ2j0m"
      },
      "source": [
        " import warnings\n",
        "warnings.filterwarnings(\"ignore\")"
      ],
      "execution_count": null,
      "outputs": []
    },
    {
      "cell_type": "code",
      "metadata": {
        "id": "K0Y9FZjzS1us"
      },
      "source": [
        "import numpy as np        \n",
        "import pandas as pd     \n",
        "import matplotlib.pyplot as plt       \n",
        "\n",
        "# Machine learning libraries\n",
        "from sklearn.model_selection import train_test_split\n",
        "from sklearn.preprocessing import OneHotEncoder\n",
        "from sklearn.preprocessing import StandardScaler\n",
        "from sklearn.linear_model import LogisticRegression\n",
        "from sklearn.neighbors import KNeighborsClassifier\n",
        "from sklearn.svm import SVC\n",
        "from sklearn.tree import DecisionTreeClassifier\n",
        "from sklearn.ensemble import RandomForestClassifier\n",
        "from sklearn.naive_bayes import GaussianNB\n",
        "import tensorflow as tf\n",
        "from tensorflow.keras import Sequential\n",
        "from tensorflow.keras.layers import Dense\n",
        "from sklearn.metrics import plot_confusion_matrix\n",
        "from sklearn.metrics import classification_report,confusion_matrix,accuracy_score,f1_score,precision_score,recall_score"
      ],
      "execution_count": null,
      "outputs": []
    },
    {
      "cell_type": "code",
      "metadata": {
        "id": "pJ44gRD2bQkf",
        "colab": {
          "base_uri": "https://localhost:8080/"
        },
        "outputId": "7c171842-e77b-4283-846a-49fbd31a817b"
      },
      "source": [
        "# Download the data\n",
        "!wget -O diabetes.csv  https://www.dropbox.com/s/sglreynnyx40pb6/diabetes.csv?dl=0"
      ],
      "execution_count": null,
      "outputs": [
        {
          "output_type": "stream",
          "name": "stdout",
          "text": [
            "--2021-12-12 14:03:47--  https://www.dropbox.com/s/sglreynnyx40pb6/diabetes.csv?dl=0\n",
            "Resolving www.dropbox.com (www.dropbox.com)... 162.125.5.18, 2620:100:601d:18::a27d:512\n",
            "Connecting to www.dropbox.com (www.dropbox.com)|162.125.5.18|:443... connected.\n",
            "HTTP request sent, awaiting response... 301 Moved Permanently\n",
            "Location: /s/raw/sglreynnyx40pb6/diabetes.csv [following]\n",
            "--2021-12-12 14:03:47--  https://www.dropbox.com/s/raw/sglreynnyx40pb6/diabetes.csv\n",
            "Reusing existing connection to www.dropbox.com:443.\n",
            "HTTP request sent, awaiting response... 302 Found\n",
            "Location: https://uc19e5647139a0af9e1e3100b68b.dl.dropboxusercontent.com/cd/0/inline/BbsNteSlY2WZBTag0XscwJHtoD1PV01ogS4CM6cQujDk9epOwAHWUwu4dEhPFX3HTvGkQ0ff_ubwOLfcU9XtNVTy_-M-9uEdG3syz5Zitu1u-dwfFDL-7tFthBQnt3CoBH6aaKdPJKAcigixLHCLfE9B/file# [following]\n",
            "--2021-12-12 14:03:48--  https://uc19e5647139a0af9e1e3100b68b.dl.dropboxusercontent.com/cd/0/inline/BbsNteSlY2WZBTag0XscwJHtoD1PV01ogS4CM6cQujDk9epOwAHWUwu4dEhPFX3HTvGkQ0ff_ubwOLfcU9XtNVTy_-M-9uEdG3syz5Zitu1u-dwfFDL-7tFthBQnt3CoBH6aaKdPJKAcigixLHCLfE9B/file\n",
            "Resolving uc19e5647139a0af9e1e3100b68b.dl.dropboxusercontent.com (uc19e5647139a0af9e1e3100b68b.dl.dropboxusercontent.com)... 162.125.5.15, 2620:100:601d:15::a27d:50f\n",
            "Connecting to uc19e5647139a0af9e1e3100b68b.dl.dropboxusercontent.com (uc19e5647139a0af9e1e3100b68b.dl.dropboxusercontent.com)|162.125.5.15|:443... connected.\n",
            "HTTP request sent, awaiting response... 200 OK\n",
            "Length: 23873 (23K) [text/plain]\n",
            "Saving to: ‘diabetes.csv’\n",
            "\n",
            "diabetes.csv        100%[===================>]  23.31K  --.-KB/s    in 0.02s   \n",
            "\n",
            "2021-12-12 14:03:48 (1.36 MB/s) - ‘diabetes.csv’ saved [23873/23873]\n",
            "\n"
          ]
        }
      ]
    },
    {
      "cell_type": "code",
      "metadata": {
        "id": "rXX5fodIjHxA",
        "colab": {
          "base_uri": "https://localhost:8080/",
          "height": 424
        },
        "outputId": "99abf218-c2f0-4ae2-e9c3-ffe132a49004"
      },
      "source": [
        "# importing the dataset\n",
        "dataset = pd.read_csv('diabetes.csv')\n",
        "dataset"
      ],
      "execution_count": null,
      "outputs": [
        {
          "output_type": "execute_result",
          "data": {
            "text/html": [
              "<div>\n",
              "<style scoped>\n",
              "    .dataframe tbody tr th:only-of-type {\n",
              "        vertical-align: middle;\n",
              "    }\n",
              "\n",
              "    .dataframe tbody tr th {\n",
              "        vertical-align: top;\n",
              "    }\n",
              "\n",
              "    .dataframe thead th {\n",
              "        text-align: right;\n",
              "    }\n",
              "</style>\n",
              "<table border=\"1\" class=\"dataframe\">\n",
              "  <thead>\n",
              "    <tr style=\"text-align: right;\">\n",
              "      <th></th>\n",
              "      <th>Pregnancies</th>\n",
              "      <th>Glucose</th>\n",
              "      <th>BloodPressure</th>\n",
              "      <th>SkinThickness</th>\n",
              "      <th>Insulin</th>\n",
              "      <th>BMI</th>\n",
              "      <th>DiabetesPedigreeFunction</th>\n",
              "      <th>Age</th>\n",
              "      <th>Outcome</th>\n",
              "    </tr>\n",
              "  </thead>\n",
              "  <tbody>\n",
              "    <tr>\n",
              "      <th>0</th>\n",
              "      <td>6</td>\n",
              "      <td>148</td>\n",
              "      <td>72</td>\n",
              "      <td>35</td>\n",
              "      <td>0</td>\n",
              "      <td>33.6</td>\n",
              "      <td>0.627</td>\n",
              "      <td>50</td>\n",
              "      <td>1</td>\n",
              "    </tr>\n",
              "    <tr>\n",
              "      <th>1</th>\n",
              "      <td>1</td>\n",
              "      <td>85</td>\n",
              "      <td>66</td>\n",
              "      <td>29</td>\n",
              "      <td>0</td>\n",
              "      <td>26.6</td>\n",
              "      <td>0.351</td>\n",
              "      <td>31</td>\n",
              "      <td>0</td>\n",
              "    </tr>\n",
              "    <tr>\n",
              "      <th>2</th>\n",
              "      <td>8</td>\n",
              "      <td>183</td>\n",
              "      <td>64</td>\n",
              "      <td>0</td>\n",
              "      <td>0</td>\n",
              "      <td>23.3</td>\n",
              "      <td>0.672</td>\n",
              "      <td>32</td>\n",
              "      <td>1</td>\n",
              "    </tr>\n",
              "    <tr>\n",
              "      <th>3</th>\n",
              "      <td>1</td>\n",
              "      <td>89</td>\n",
              "      <td>66</td>\n",
              "      <td>23</td>\n",
              "      <td>94</td>\n",
              "      <td>28.1</td>\n",
              "      <td>0.167</td>\n",
              "      <td>21</td>\n",
              "      <td>0</td>\n",
              "    </tr>\n",
              "    <tr>\n",
              "      <th>4</th>\n",
              "      <td>0</td>\n",
              "      <td>137</td>\n",
              "      <td>40</td>\n",
              "      <td>35</td>\n",
              "      <td>168</td>\n",
              "      <td>43.1</td>\n",
              "      <td>2.288</td>\n",
              "      <td>33</td>\n",
              "      <td>1</td>\n",
              "    </tr>\n",
              "    <tr>\n",
              "      <th>...</th>\n",
              "      <td>...</td>\n",
              "      <td>...</td>\n",
              "      <td>...</td>\n",
              "      <td>...</td>\n",
              "      <td>...</td>\n",
              "      <td>...</td>\n",
              "      <td>...</td>\n",
              "      <td>...</td>\n",
              "      <td>...</td>\n",
              "    </tr>\n",
              "    <tr>\n",
              "      <th>763</th>\n",
              "      <td>10</td>\n",
              "      <td>101</td>\n",
              "      <td>76</td>\n",
              "      <td>48</td>\n",
              "      <td>180</td>\n",
              "      <td>32.9</td>\n",
              "      <td>0.171</td>\n",
              "      <td>63</td>\n",
              "      <td>0</td>\n",
              "    </tr>\n",
              "    <tr>\n",
              "      <th>764</th>\n",
              "      <td>2</td>\n",
              "      <td>122</td>\n",
              "      <td>70</td>\n",
              "      <td>27</td>\n",
              "      <td>0</td>\n",
              "      <td>36.8</td>\n",
              "      <td>0.340</td>\n",
              "      <td>27</td>\n",
              "      <td>0</td>\n",
              "    </tr>\n",
              "    <tr>\n",
              "      <th>765</th>\n",
              "      <td>5</td>\n",
              "      <td>121</td>\n",
              "      <td>72</td>\n",
              "      <td>23</td>\n",
              "      <td>112</td>\n",
              "      <td>26.2</td>\n",
              "      <td>0.245</td>\n",
              "      <td>30</td>\n",
              "      <td>0</td>\n",
              "    </tr>\n",
              "    <tr>\n",
              "      <th>766</th>\n",
              "      <td>1</td>\n",
              "      <td>126</td>\n",
              "      <td>60</td>\n",
              "      <td>0</td>\n",
              "      <td>0</td>\n",
              "      <td>30.1</td>\n",
              "      <td>0.349</td>\n",
              "      <td>47</td>\n",
              "      <td>1</td>\n",
              "    </tr>\n",
              "    <tr>\n",
              "      <th>767</th>\n",
              "      <td>1</td>\n",
              "      <td>93</td>\n",
              "      <td>70</td>\n",
              "      <td>31</td>\n",
              "      <td>0</td>\n",
              "      <td>30.4</td>\n",
              "      <td>0.315</td>\n",
              "      <td>23</td>\n",
              "      <td>0</td>\n",
              "    </tr>\n",
              "  </tbody>\n",
              "</table>\n",
              "<p>768 rows × 9 columns</p>\n",
              "</div>"
            ],
            "text/plain": [
              "     Pregnancies  Glucose  ...  Age  Outcome\n",
              "0              6      148  ...   50        1\n",
              "1              1       85  ...   31        0\n",
              "2              8      183  ...   32        1\n",
              "3              1       89  ...   21        0\n",
              "4              0      137  ...   33        1\n",
              "..           ...      ...  ...  ...      ...\n",
              "763           10      101  ...   63        0\n",
              "764            2      122  ...   27        0\n",
              "765            5      121  ...   30        0\n",
              "766            1      126  ...   47        1\n",
              "767            1       93  ...   23        0\n",
              "\n",
              "[768 rows x 9 columns]"
            ]
          },
          "metadata": {},
          "execution_count": 4
        }
      ]
    },
    {
      "cell_type": "code",
      "metadata": {
        "colab": {
          "base_uri": "https://localhost:8080/",
          "height": 49
        },
        "id": "4T1e0y7HgW8G",
        "outputId": "2510a279-b843-489e-f011-2f1031ade482"
      },
      "source": [
        "# Check the missing value of the dataset \n",
        "# Check the each column \n",
        "dataset[pd.isnull(dataset.Outcome)]"
      ],
      "execution_count": null,
      "outputs": [
        {
          "output_type": "execute_result",
          "data": {
            "text/html": [
              "<div>\n",
              "<style scoped>\n",
              "    .dataframe tbody tr th:only-of-type {\n",
              "        vertical-align: middle;\n",
              "    }\n",
              "\n",
              "    .dataframe tbody tr th {\n",
              "        vertical-align: top;\n",
              "    }\n",
              "\n",
              "    .dataframe thead th {\n",
              "        text-align: right;\n",
              "    }\n",
              "</style>\n",
              "<table border=\"1\" class=\"dataframe\">\n",
              "  <thead>\n",
              "    <tr style=\"text-align: right;\">\n",
              "      <th></th>\n",
              "      <th>Pregnancies</th>\n",
              "      <th>Glucose</th>\n",
              "      <th>BloodPressure</th>\n",
              "      <th>SkinThickness</th>\n",
              "      <th>Insulin</th>\n",
              "      <th>BMI</th>\n",
              "      <th>DiabetesPedigreeFunction</th>\n",
              "      <th>Age</th>\n",
              "      <th>Outcome</th>\n",
              "    </tr>\n",
              "  </thead>\n",
              "  <tbody>\n",
              "  </tbody>\n",
              "</table>\n",
              "</div>"
            ],
            "text/plain": [
              "Empty DataFrame\n",
              "Columns: [Pregnancies, Glucose, BloodPressure, SkinThickness, Insulin, BMI, DiabetesPedigreeFunction, Age, Outcome]\n",
              "Index: []"
            ]
          },
          "metadata": {},
          "execution_count": 14
        }
      ]
    },
    {
      "cell_type": "code",
      "source": [
        "Data Preprocessing:"
      ],
      "metadata": {
        "id": "l5lWm235OBbM"
      },
      "execution_count": null,
      "outputs": []
    },
    {
      "cell_type": "code",
      "metadata": {
        "colab": {
          "base_uri": "https://localhost:8080/"
        },
        "id": "AwWrv4BSlunM",
        "outputId": "71b5241c-df29-4ef2-ae42-6e0a2db6d578"
      },
      "source": [
        "print(dataset.isnull().sum())"
      ],
      "execution_count": null,
      "outputs": [
        {
          "output_type": "stream",
          "name": "stdout",
          "text": [
            "Pregnancies                 0\n",
            "Glucose                     0\n",
            "BloodPressure               0\n",
            "SkinThickness               0\n",
            "Insulin                     0\n",
            "BMI                         0\n",
            "DiabetesPedigreeFunction    0\n",
            "Age                         0\n",
            "Outcome                     0\n",
            "dtype: int64\n"
          ]
        }
      ]
    },
    {
      "cell_type": "code",
      "metadata": {
        "id": "5_kQVKQIhN_h"
      },
      "source": [
        "# There is no missing data found so no missing data handling is necessary.  "
      ],
      "execution_count": null,
      "outputs": []
    },
    {
      "cell_type": "code",
      "metadata": {
        "id": "GNEG6gyPpq8t"
      },
      "source": [
        "dataset"
      ],
      "execution_count": null,
      "outputs": []
    },
    {
      "cell_type": "code",
      "metadata": {
        "colab": {
          "base_uri": "https://localhost:8080/"
        },
        "id": "Fe9wuX-2k8KL",
        "outputId": "27d12970-a203-4524-8602-d41b2504ab61"
      },
      "source": [
        "dataset.SkinThickness.fillna(\"Unknown\")"
      ],
      "execution_count": null,
      "outputs": [
        {
          "output_type": "execute_result",
          "data": {
            "text/plain": [
              "0      35\n",
              "1      29\n",
              "2       0\n",
              "3      23\n",
              "4      35\n",
              "       ..\n",
              "763    48\n",
              "764    27\n",
              "765    23\n",
              "766     0\n",
              "767    31\n",
              "Name: SkinThickness, Length: 768, dtype: int64"
            ]
          },
          "metadata": {},
          "execution_count": 17
        }
      ]
    },
    {
      "cell_type": "code",
      "metadata": {
        "id": "ki4sp9QwiuEz"
      },
      "source": [
        "# Declare the features and the Target\n",
        "feature = dataset[['Pregnancies', 'Glucose', 'BloodPressure', 'SkinThickness', 'Insulin', 'BMI', 'DiabetesPedigreeFunction', 'Age']]  # for independent\n",
        "target = dataset[['Outcome']]   # for dependent"
      ],
      "execution_count": null,
      "outputs": []
    },
    {
      "cell_type": "code",
      "metadata": {
        "id": "jP2YyZQlFZhX"
      },
      "source": [
        "# As there is no categorical data, no need of Encoding "
      ],
      "execution_count": null,
      "outputs": []
    },
    {
      "cell_type": "code",
      "metadata": {
        "id": "QLjV41K_oxSg"
      },
      "source": [
        "# Dataset Spliting into Training and Test Set\n",
        "#80% data is taken for training and 20% data for test\n",
        "X_train,X_test,y_train,y_test=train_test_split(feature,target,test_size = 0.2,random_state = 0)"
      ],
      "execution_count": null,
      "outputs": []
    },
    {
      "cell_type": "code",
      "metadata": {
        "colab": {
          "base_uri": "https://localhost:8080/"
        },
        "id": "YDzGdXXrpBlc",
        "outputId": "cbbef4a5-a2c6-493a-cb4b-a728343ba85d"
      },
      "source": [
        "#Observe the shape of train set and test shape \n",
        "print(X_train.shape)\n",
        "print(X_test.shape)"
      ],
      "execution_count": null,
      "outputs": [
        {
          "output_type": "stream",
          "name": "stdout",
          "text": [
            "(614, 8)\n",
            "(154, 8)\n"
          ]
        }
      ]
    },
    {
      "cell_type": "code",
      "metadata": {
        "id": "KZWjA9QSpJTJ"
      },
      "source": [
        "# Feature Scaling is not necessary as there is no large value in actual dataset columns: "
      ],
      "execution_count": null,
      "outputs": []
    },
    {
      "cell_type": "code",
      "source": [
        "Machine Learning Classifier Models: "
      ],
      "metadata": {
        "id": "h5A8U4x4N2jf"
      },
      "execution_count": null,
      "outputs": []
    },
    {
      "cell_type": "code",
      "metadata": {
        "id": "1axxobG26yVJ"
      },
      "source": [
        "# Logistic Regression Classification\n",
        "# Fitting Logistic Regression to the training dataset\n",
        "lr = LogisticRegression()\n",
        "lr.fit(X_train,y_train)\n",
        "# prediction\n",
        "y_pred_lr = lr.predict(X_test)\n",
        "# Using KNN Classifier\n",
        "# Classifier Model\n",
        "knn = KNeighborsClassifier(n_neighbors=5, metric = 'minkowski', p=2)\n",
        "knn.fit(X_train,y_train)\n",
        "# Prediction\n",
        "y_pred_knn = knn.predict(X_test)\n",
        "# SVM Classifier Model\n",
        "svm = SVC(kernel = 'linear', random_state = 0)\n",
        "svm.fit(X_train,y_train)\n",
        "# Prediction\n",
        "y_pred_svm = svm.predict(X_test)\n",
        "# Using Decision Tree Classifier\n",
        "# Classifier Model\n",
        "dt = DecisionTreeClassifier(criterion = 'entropy', random_state = 0)\n",
        "dt.fit(X_train,y_train)\n",
        "# Prediction\n",
        "y_pred_dt = dt.predict(X_test)\n",
        "# Using Random Forest Classifier\n",
        "# Classifier Model\n",
        "rf = RandomForestClassifier(n_estimators=10, criterion ='entropy', random_state = 0)\n",
        "rf.fit(X_train,y_train)\n",
        "# Prediction\n",
        "y_pred_rf = rf.predict(X_test)\n",
        "#Using Gaussin naive bias Classifier Model \n",
        "gnb = GaussianNB()\n",
        "gnb.fit(X_train,y_train)\n",
        "# Prediction\n",
        "y_pred_gnb = gnb.predict(X_test)"
      ],
      "execution_count": null,
      "outputs": []
    },
    {
      "cell_type": "code",
      "metadata": {
        "colab": {
          "base_uri": "https://localhost:8080/",
          "height": 539
        },
        "id": "b4LjmU7CSZZ8",
        "outputId": "f5c169b6-ac8e-4874-cdc6-821c6af78463"
      },
      "source": [
        "# Making confusing matrix for Logistic Regression Classifier model\n",
        "\n",
        "print(confusion_matrix(y_test,y_pred_lr))\n",
        "cf_matrix= confusion_matrix(y_test,y_pred_lr)\n",
        "import seaborn as sns\n",
        "ax = sns.heatmap(cf_matrix, annot=True, cmap='Blues')\n",
        "ax.set_title('Logistric Regression model Confusion Matrix with labels\\n\\n');\n",
        "ax.set_xlabel('\\nPredicted Values')\n",
        "ax.set_ylabel('Actual Values ');\n",
        "\n",
        "## Display the visualization of the Confusion Matrix.\n",
        "plt.show()\n",
        "# Making confusing matrix\n",
        "# it is used to check the accuracy of the classification\n",
        "print(classification_report(y_test,y_pred_lr,target_names = ['No','Yes']))"
      ],
      "execution_count": null,
      "outputs": [
        {
          "output_type": "stream",
          "name": "stdout",
          "text": [
            "[[98  9]\n",
            " [18 29]]\n"
          ]
        },
        {
          "output_type": "display_data",
          "data": {
            "image/png": "[encoded data removed]",
            "text/plain": [
              "<Figure size 432x288 with 2 Axes>"
            ]
          },
          "metadata": {
            "needs_background": "light"
          }
        },
        {
          "output_type": "stream",
          "name": "stdout",
          "text": [
            "              precision    recall  f1-score   support\n",
            "\n",
            "          No       0.84      0.92      0.88       107\n",
            "         Yes       0.76      0.62      0.68        47\n",
            "\n",
            "    accuracy                           0.82       154\n",
            "   macro avg       0.80      0.77      0.78       154\n",
            "weighted avg       0.82      0.82      0.82       154\n",
            "\n"
          ]
        }
      ]
    },
    {
      "cell_type": "code",
      "metadata": {
        "colab": {
          "base_uri": "https://localhost:8080/",
          "height": 539
        },
        "id": "QfoKHFJD0lwG",
        "outputId": "01fdf3fc-e553-4f36-c904-668119856a10"
      },
      "source": [
        "# Making confusing matrix KNN model\n",
        "\n",
        "print(confusion_matrix(y_test,y_pred_knn))\n",
        "cf_matrix= confusion_matrix(y_test,y_pred_knn)\n",
        "import seaborn as sns\n",
        "ax = sns.heatmap(cf_matrix, annot=True, cmap='Blues')\n",
        "ax.set_title('KNN model Confusion Matrix with labels\\n\\n');\n",
        "ax.set_xlabel('\\nPredicted Values')\n",
        "ax.set_ylabel('Actual Values ');\n",
        "\n",
        "## Display the visualization of the Confusion Matrix.\n",
        "plt.show()\n",
        "# Making confusing matrix\n",
        "# it is used to check the accuracy of the classification\n",
        "print(classification_report(y_test,y_pred_knn,target_names = ['No','Yes']))"
      ],
      "execution_count": null,
      "outputs": [
        {
          "output_type": "stream",
          "name": "stdout",
          "text": [
            "[[87 20]\n",
            " [18 29]]\n"
          ]
        },
        {
          "output_type": "display_data",
          "data": {
            "image/png": "[encoded data removed]",
            "text/plain": [
              "<Figure size 432x288 with 2 Axes>"
            ]
          },
          "metadata": {
            "needs_background": "light"
          }
        },
        {
          "output_type": "stream",
          "name": "stdout",
          "text": [
            "              precision    recall  f1-score   support\n",
            "\n",
            "          No       0.83      0.81      0.82       107\n",
            "         Yes       0.59      0.62      0.60        47\n",
            "\n",
            "    accuracy                           0.75       154\n",
            "   macro avg       0.71      0.72      0.71       154\n",
            "weighted avg       0.76      0.75      0.75       154\n",
            "\n"
          ]
        }
      ]
    },
    {
      "cell_type": "code",
      "metadata": {
        "colab": {
          "base_uri": "https://localhost:8080/",
          "height": 539
        },
        "id": "RJ30F17c08Y9",
        "outputId": "a4bbe9c7-a515-446a-b4ab-726790f638dd"
      },
      "source": [
        "# Making confusing matrix for SVM model\n",
        "\n",
        "print(confusion_matrix(y_test,y_pred_svm))\n",
        "cf_matrix= confusion_matrix(y_test,y_pred_svm)\n",
        "import seaborn as sns\n",
        "ax = sns.heatmap(cf_matrix, annot=True, cmap='Blues')\n",
        "ax.set_title('SVM model Confusion Matrix with labels\\n\\n');\n",
        "ax.set_xlabel('\\nPredicted Values')\n",
        "ax.set_ylabel('Actual Values ');\n",
        "\n",
        "## Display the visualization of the Confusion Matrix.\n",
        "plt.show()\n",
        "# Making confusing matrix\n",
        "# it is used to check the accuracy of the classification\n",
        "print(classification_report(y_test,y_pred_svm,target_names = ['No','Yes']))"
      ],
      "execution_count": null,
      "outputs": [
        {
          "output_type": "stream",
          "name": "stdout",
          "text": [
            "[[97 10]\n",
            " [18 29]]\n"
          ]
        },
        {
          "output_type": "display_data",
          "data": {
            "image/png": "[encoded data removed]",
            "text/plain": [
              "<Figure size 432x288 with 2 Axes>"
            ]
          },
          "metadata": {
            "needs_background": "light"
          }
        },
        {
          "output_type": "stream",
          "name": "stdout",
          "text": [
            "              precision    recall  f1-score   support\n",
            "\n",
            "          No       0.84      0.91      0.87       107\n",
            "         Yes       0.74      0.62      0.67        47\n",
            "\n",
            "    accuracy                           0.82       154\n",
            "   macro avg       0.79      0.76      0.77       154\n",
            "weighted avg       0.81      0.82      0.81       154\n",
            "\n"
          ]
        }
      ]
    },
    {
      "cell_type": "code",
      "metadata": {
        "colab": {
          "base_uri": "https://localhost:8080/",
          "height": 539
        },
        "id": "edsOs9ry1GMF",
        "outputId": "dc8fc3ed-4da1-4379-8bae-e53ba26a658b"
      },
      "source": [
        "# Making confusing matrix for Decision Tree\n",
        "\n",
        "print(confusion_matrix(y_test,y_pred_dt))\n",
        "cf_matrix= confusion_matrix(y_test,y_pred_dt)\n",
        "import seaborn as sns\n",
        "ax = sns.heatmap(cf_matrix, annot=True, cmap='Blues')\n",
        "ax.set_title('Decision Tree model Confusion Matrix with labels\\n\\n');\n",
        "ax.set_xlabel('\\nPredicted Values')\n",
        "ax.set_ylabel('Actual Values ');\n",
        "\n",
        "## Display the visualization of the Confusion Matrix.\n",
        "plt.show()\n",
        "# Making confusing matrix\n",
        "# it is used to check the accuracy of the classification\n",
        "print(classification_report(y_test,y_pred_dt,target_names = ['No','Yes']))"
      ],
      "execution_count": null,
      "outputs": [
        {
          "output_type": "stream",
          "name": "stdout",
          "text": [
            "[[79 28]\n",
            " [17 30]]\n"
          ]
        },
        {
          "output_type": "display_data",
          "data": {
            "image/png": "[encoded data removed]",
            "text/plain": [
              "<Figure size 432x288 with 2 Axes>"
            ]
          },
          "metadata": {
            "needs_background": "light"
          }
        },
        {
          "output_type": "stream",
          "name": "stdout",
          "text": [
            "              precision    recall  f1-score   support\n",
            "\n",
            "          No       0.82      0.74      0.78       107\n",
            "         Yes       0.52      0.64      0.57        47\n",
            "\n",
            "    accuracy                           0.71       154\n",
            "   macro avg       0.67      0.69      0.67       154\n",
            "weighted avg       0.73      0.71      0.72       154\n",
            "\n"
          ]
        }
      ]
    },
    {
      "cell_type": "code",
      "metadata": {
        "colab": {
          "base_uri": "https://localhost:8080/",
          "height": 539
        },
        "id": "Hm7OiXrW1N3p",
        "outputId": "40624f00-54be-4f14-9692-cd1a31334de1"
      },
      "source": [
        "# Making confusing matrix for Random Forest Classifier\n",
        "\n",
        "print(confusion_matrix(y_test,y_pred_rf))\n",
        "cf_matrix= confusion_matrix(y_test,y_pred_rf)\n",
        "import seaborn as sns\n",
        "ax = sns.heatmap(cf_matrix, annot=True, cmap='Blues')\n",
        "ax.set_title('Random Forest model Confusion Matrix with labels\\n\\n');\n",
        "ax.set_xlabel('\\nPredicted Values')\n",
        "ax.set_ylabel('Actual Values ');\n",
        "\n",
        "## Display the visualization of the Confusion Matrix.\n",
        "plt.show()\n",
        "# Making confusing matrix\n",
        "# it is used to check the accuracy of the classification\n",
        "print(classification_report(y_test,y_pred_rf,target_names = ['No','Yes']))"
      ],
      "execution_count": null,
      "outputs": [
        {
          "output_type": "stream",
          "name": "stdout",
          "text": [
            "[[94 13]\n",
            " [20 27]]\n"
          ]
        },
        {
          "output_type": "display_data",
          "data": {
            "image/png": "[encoded data removed]",
            "text/plain": [
              "<Figure size 432x288 with 2 Axes>"
            ]
          },
          "metadata": {
            "needs_background": "light"
          }
        },
        {
          "output_type": "stream",
          "name": "stdout",
          "text": [
            "              precision    recall  f1-score   support\n",
            "\n",
            "          No       0.82      0.88      0.85       107\n",
            "         Yes       0.68      0.57      0.62        47\n",
            "\n",
            "    accuracy                           0.79       154\n",
            "   macro avg       0.75      0.73      0.74       154\n",
            "weighted avg       0.78      0.79      0.78       154\n",
            "\n"
          ]
        }
      ]
    },
    {
      "cell_type": "code",
      "metadata": {
        "colab": {
          "base_uri": "https://localhost:8080/",
          "height": 539
        },
        "id": "Q0bcIBEU3hC9",
        "outputId": "62be255a-1200-4720-d9bb-f819a64b3887"
      },
      "source": [
        "# Making confusing matrix Naive Bayes model\n",
        "\n",
        "print(confusion_matrix(y_test,y_pred_gnb))\n",
        "cf_matrix= confusion_matrix(y_test,y_pred_gnb)\n",
        "import seaborn as sns\n",
        "ax = sns.heatmap(cf_matrix, annot=True, cmap='Blues')\n",
        "ax.set_title('Naive Bayes model Confusion Matrix with labels\\n\\n');\n",
        "ax.set_xlabel('\\nPredicted Values')\n",
        "ax.set_ylabel('Actual Values ');\n",
        "\n",
        "## Display the visualization of the Confusion Matrix.\n",
        "plt.show()\n",
        "# Making confusing matrix\n",
        "# it is used to check the accuracy of the classification\n",
        "print(classification_report(y_test,y_pred_gnb,target_names = ['No','Yes']))"
      ],
      "execution_count": null,
      "outputs": [
        {
          "output_type": "stream",
          "name": "stdout",
          "text": [
            "[[93 14]\n",
            " [18 29]]\n"
          ]
        },
        {
          "output_type": "display_data",
          "data": {
            "image/png": "[encoded data removed]",
            "text/plain": [
              "<Figure size 432x288 with 2 Axes>"
            ]
          },
          "metadata": {
            "needs_background": "light"
          }
        },
        {
          "output_type": "stream",
          "name": "stdout",
          "text": [
            "              precision    recall  f1-score   support\n",
            "\n",
            "          No       0.84      0.87      0.85       107\n",
            "         Yes       0.67      0.62      0.64        47\n",
            "\n",
            "    accuracy                           0.79       154\n",
            "   macro avg       0.76      0.74      0.75       154\n",
            "weighted avg       0.79      0.79      0.79       154\n",
            "\n"
          ]
        }
      ]
    },
    {
      "cell_type": "code",
      "source": [
        "#Builting the neural network architecture\n",
        "model = Sequential()\n",
        "model.add(Dense(10, input_dim=8, activation='relu'))\n",
        "model.add(Dense(10, activation='relu'))\n",
        "model.add(Dense(10, activation='relu'))\n",
        "model.add(Dense(1, activation='sigmoid'))"
      ],
      "metadata": {
        "id": "-byQQO_5JUC5"
      },
      "execution_count": null,
      "outputs": []
    },
    {
      "cell_type": "code",
      "source": [
        "model.summary()"
      ],
      "metadata": {
        "colab": {
          "base_uri": "https://localhost:8080/"
        },
        "id": "ibYhiDU5JZr4",
        "outputId": "043b33f0-c9a7-4b04-e14e-be5a853c7ccf"
      },
      "execution_count": null,
      "outputs": [
        {
          "output_type": "stream",
          "name": "stdout",
          "text": [
            "Model: \"sequential_7\"\n",
            "_________________________________________________________________\n",
            " Layer (type)                Output Shape              Param #   \n",
            "=================================================================\n",
            " dense_25 (Dense)            (None, 10)                90        \n",
            "                                                                 \n",
            " dense_26 (Dense)            (None, 10)                110       \n",
            "                                                                 \n",
            " dense_27 (Dense)            (None, 10)                110       \n",
            "                                                                 \n",
            " dense_28 (Dense)            (None, 1)                 11        \n",
            "                                                                 \n",
            "=================================================================\n",
            "Total params: 321\n",
            "Trainable params: 321\n",
            "Non-trainable params: 0\n",
            "_________________________________________________________________\n"
          ]
        }
      ]
    },
    {
      "cell_type": "code",
      "source": [
        "model.compile(loss='binary_crossentropy', optimizer='adam', metrics=['accuracy'])"
      ],
      "metadata": {
        "id": "C-QTG1WvJeKo"
      },
      "execution_count": null,
      "outputs": []
    },
    {
      "cell_type": "code",
      "source": [
        "#Training the neural network on the train dataset\n",
        "history = model.fit(X_train, y_train, epochs=100, validation_split=0.1)"
      ],
      "metadata": {
        "colab": {
          "base_uri": "https://localhost:8080/"
        },
        "id": "oliF2CEDJiEj",
        "outputId": "4be6cbda-6977-4f0c-846e-d7eb256d3f8e"
      },
      "execution_count": null,
      "outputs": [
        {
          "output_type": "stream",
          "name": "stdout",
          "text": [
            "Epoch 1/100\n",
            "18/18 [==============================] - 1s 16ms/step - loss: 8.1110 - accuracy: 0.3714 - val_loss: 3.6646 - val_accuracy: 0.3871\n",
            "Epoch 2/100\n",
            "18/18 [==============================] - 0s 4ms/step - loss: 2.3134 - accuracy: 0.3859 - val_loss: 1.0244 - val_accuracy: 0.5645\n",
            "Epoch 3/100\n",
            "18/18 [==============================] - 0s 3ms/step - loss: 1.2812 - accuracy: 0.5562 - val_loss: 0.7834 - val_accuracy: 0.6935\n",
            "Epoch 4/100\n",
            "18/18 [==============================] - 0s 4ms/step - loss: 1.0012 - accuracy: 0.5018 - val_loss: 0.7474 - val_accuracy: 0.6129\n",
            "Epoch 5/100\n",
            "18/18 [==============================] - 0s 3ms/step - loss: 0.8864 - accuracy: 0.5344 - val_loss: 0.6673 - val_accuracy: 0.7258\n",
            "Epoch 6/100\n",
            "18/18 [==============================] - 0s 3ms/step - loss: 0.8234 - accuracy: 0.5580 - val_loss: 0.6477 - val_accuracy: 0.6774\n",
            "Epoch 7/100\n",
            "18/18 [==============================] - 0s 3ms/step - loss: 0.7858 - accuracy: 0.5652 - val_loss: 0.6087 - val_accuracy: 0.6935\n",
            "Epoch 8/100\n",
            "18/18 [==============================] - 0s 3ms/step - loss: 0.7579 - accuracy: 0.5779 - val_loss: 0.6074 - val_accuracy: 0.6935\n",
            "Epoch 9/100\n",
            "18/18 [==============================] - 0s 4ms/step - loss: 0.7393 - accuracy: 0.5833 - val_loss: 0.5998 - val_accuracy: 0.6935\n",
            "Epoch 10/100\n",
            "18/18 [==============================] - 0s 4ms/step - loss: 0.7277 - accuracy: 0.5960 - val_loss: 0.5949 - val_accuracy: 0.7097\n",
            "Epoch 11/100\n",
            "18/18 [==============================] - 0s 4ms/step - loss: 0.7162 - accuracy: 0.5761 - val_loss: 0.6089 - val_accuracy: 0.6613\n",
            "Epoch 12/100\n",
            "18/18 [==============================] - 0s 4ms/step - loss: 0.7067 - accuracy: 0.6051 - val_loss: 0.6107 - val_accuracy: 0.7097\n",
            "Epoch 13/100\n",
            "18/18 [==============================] - 0s 4ms/step - loss: 0.7026 - accuracy: 0.6051 - val_loss: 0.6106 - val_accuracy: 0.6452\n",
            "Epoch 14/100\n",
            "18/18 [==============================] - 0s 3ms/step - loss: 0.6956 - accuracy: 0.5888 - val_loss: 0.6158 - val_accuracy: 0.6613\n",
            "Epoch 15/100\n",
            "18/18 [==============================] - 0s 3ms/step - loss: 0.6859 - accuracy: 0.5906 - val_loss: 0.6292 - val_accuracy: 0.7097\n",
            "Epoch 16/100\n",
            "18/18 [==============================] - 0s 3ms/step - loss: 0.6831 - accuracy: 0.6051 - val_loss: 0.6266 - val_accuracy: 0.6935\n",
            "Epoch 17/100\n",
            "18/18 [==============================] - 0s 3ms/step - loss: 0.6761 - accuracy: 0.6087 - val_loss: 0.6297 - val_accuracy: 0.6935\n",
            "Epoch 18/100\n",
            "18/18 [==============================] - 0s 3ms/step - loss: 0.6703 - accuracy: 0.5996 - val_loss: 0.6321 - val_accuracy: 0.6774\n",
            "Epoch 19/100\n",
            "18/18 [==============================] - 0s 4ms/step - loss: 0.6674 - accuracy: 0.6051 - val_loss: 0.6296 - val_accuracy: 0.6774\n",
            "Epoch 20/100\n",
            "18/18 [==============================] - 0s 4ms/step - loss: 0.6602 - accuracy: 0.6141 - val_loss: 0.6355 - val_accuracy: 0.7097\n",
            "Epoch 21/100\n",
            "18/18 [==============================] - 0s 3ms/step - loss: 0.6520 - accuracy: 0.6033 - val_loss: 0.6321 - val_accuracy: 0.6774\n",
            "Epoch 22/100\n",
            "18/18 [==============================] - 0s 3ms/step - loss: 0.6496 - accuracy: 0.6304 - val_loss: 0.6336 - val_accuracy: 0.6935\n",
            "Epoch 23/100\n",
            "18/18 [==============================] - 0s 3ms/step - loss: 0.6336 - accuracy: 0.6486 - val_loss: 0.6427 - val_accuracy: 0.6129\n",
            "Epoch 24/100\n",
            "18/18 [==============================] - 0s 3ms/step - loss: 0.6255 - accuracy: 0.6540 - val_loss: 0.6571 - val_accuracy: 0.6452\n",
            "Epoch 25/100\n",
            "18/18 [==============================] - 0s 3ms/step - loss: 0.6210 - accuracy: 0.6649 - val_loss: 0.6481 - val_accuracy: 0.6452\n",
            "Epoch 26/100\n",
            "18/18 [==============================] - 0s 3ms/step - loss: 0.6192 - accuracy: 0.6721 - val_loss: 0.6611 - val_accuracy: 0.6129\n",
            "Epoch 27/100\n",
            "18/18 [==============================] - 0s 4ms/step - loss: 0.6189 - accuracy: 0.6757 - val_loss: 0.6595 - val_accuracy: 0.6129\n",
            "Epoch 28/100\n",
            "18/18 [==============================] - 0s 3ms/step - loss: 0.6142 - accuracy: 0.6649 - val_loss: 0.6634 - val_accuracy: 0.6613\n",
            "Epoch 29/100\n",
            "18/18 [==============================] - 0s 3ms/step - loss: 0.6108 - accuracy: 0.6793 - val_loss: 0.6534 - val_accuracy: 0.6452\n",
            "Epoch 30/100\n",
            "18/18 [==============================] - 0s 3ms/step - loss: 0.6076 - accuracy: 0.6630 - val_loss: 0.6667 - val_accuracy: 0.6613\n",
            "Epoch 31/100\n",
            "18/18 [==============================] - 0s 3ms/step - loss: 0.6101 - accuracy: 0.6775 - val_loss: 0.6611 - val_accuracy: 0.6452\n",
            "Epoch 32/100\n",
            "18/18 [==============================] - 0s 3ms/step - loss: 0.6084 - accuracy: 0.6757 - val_loss: 0.6587 - val_accuracy: 0.6613\n",
            "Epoch 33/100\n",
            "18/18 [==============================] - 0s 3ms/step - loss: 0.6035 - accuracy: 0.6757 - val_loss: 0.6639 - val_accuracy: 0.6613\n",
            "Epoch 34/100\n",
            "18/18 [==============================] - 0s 4ms/step - loss: 0.6030 - accuracy: 0.6775 - val_loss: 0.6686 - val_accuracy: 0.6290\n",
            "Epoch 35/100\n",
            "18/18 [==============================] - 0s 3ms/step - loss: 0.6015 - accuracy: 0.6739 - val_loss: 0.6555 - val_accuracy: 0.7097\n",
            "Epoch 36/100\n",
            "18/18 [==============================] - 0s 3ms/step - loss: 0.6104 - accuracy: 0.6721 - val_loss: 0.6785 - val_accuracy: 0.6290\n",
            "Epoch 37/100\n",
            "18/18 [==============================] - 0s 3ms/step - loss: 0.5978 - accuracy: 0.6848 - val_loss: 0.6586 - val_accuracy: 0.7097\n",
            "Epoch 38/100\n",
            "18/18 [==============================] - 0s 4ms/step - loss: 0.6098 - accuracy: 0.6848 - val_loss: 0.6830 - val_accuracy: 0.6452\n",
            "Epoch 39/100\n",
            "18/18 [==============================] - 0s 4ms/step - loss: 0.6057 - accuracy: 0.6775 - val_loss: 0.6493 - val_accuracy: 0.6774\n",
            "Epoch 40/100\n",
            "18/18 [==============================] - 0s 3ms/step - loss: 0.5952 - accuracy: 0.6993 - val_loss: 0.6548 - val_accuracy: 0.6452\n",
            "Epoch 41/100\n",
            "18/18 [==============================] - 0s 3ms/step - loss: 0.5912 - accuracy: 0.6920 - val_loss: 0.6528 - val_accuracy: 0.6452\n",
            "Epoch 42/100\n",
            "18/18 [==============================] - 0s 3ms/step - loss: 0.5965 - accuracy: 0.6884 - val_loss: 0.6625 - val_accuracy: 0.6290\n",
            "Epoch 43/100\n",
            "18/18 [==============================] - 0s 4ms/step - loss: 0.5919 - accuracy: 0.7029 - val_loss: 0.6459 - val_accuracy: 0.6774\n",
            "Epoch 44/100\n",
            "18/18 [==============================] - 0s 3ms/step - loss: 0.5915 - accuracy: 0.6902 - val_loss: 0.6500 - val_accuracy: 0.6774\n",
            "Epoch 45/100\n",
            "18/18 [==============================] - 0s 3ms/step - loss: 0.5935 - accuracy: 0.6775 - val_loss: 0.6470 - val_accuracy: 0.6613\n",
            "Epoch 46/100\n",
            "18/18 [==============================] - 0s 3ms/step - loss: 0.5858 - accuracy: 0.7120 - val_loss: 0.6457 - val_accuracy: 0.6774\n",
            "Epoch 47/100\n",
            "18/18 [==============================] - 0s 3ms/step - loss: 0.5894 - accuracy: 0.7138 - val_loss: 0.6506 - val_accuracy: 0.6290\n",
            "Epoch 48/100\n",
            "18/18 [==============================] - 0s 3ms/step - loss: 0.5812 - accuracy: 0.7228 - val_loss: 0.6359 - val_accuracy: 0.6935\n",
            "Epoch 49/100\n",
            "18/18 [==============================] - 0s 3ms/step - loss: 0.5818 - accuracy: 0.7228 - val_loss: 0.6501 - val_accuracy: 0.6774\n",
            "Epoch 50/100\n",
            "18/18 [==============================] - 0s 3ms/step - loss: 0.5927 - accuracy: 0.7029 - val_loss: 0.6415 - val_accuracy: 0.6935\n",
            "Epoch 51/100\n",
            "18/18 [==============================] - 0s 4ms/step - loss: 0.5852 - accuracy: 0.6957 - val_loss: 0.6333 - val_accuracy: 0.6452\n",
            "Epoch 52/100\n",
            "18/18 [==============================] - 0s 4ms/step - loss: 0.5797 - accuracy: 0.7355 - val_loss: 0.6547 - val_accuracy: 0.6774\n",
            "Epoch 53/100\n",
            "18/18 [==============================] - 0s 3ms/step - loss: 0.5780 - accuracy: 0.6957 - val_loss: 0.6409 - val_accuracy: 0.6935\n",
            "Epoch 54/100\n",
            "18/18 [==============================] - 0s 3ms/step - loss: 0.5771 - accuracy: 0.7246 - val_loss: 0.6394 - val_accuracy: 0.6613\n",
            "Epoch 55/100\n",
            "18/18 [==============================] - 0s 3ms/step - loss: 0.5764 - accuracy: 0.7174 - val_loss: 0.6393 - val_accuracy: 0.6613\n",
            "Epoch 56/100\n",
            "18/18 [==============================] - 0s 3ms/step - loss: 0.5710 - accuracy: 0.7138 - val_loss: 0.6476 - val_accuracy: 0.6935\n",
            "Epoch 57/100\n",
            "18/18 [==============================] - 0s 4ms/step - loss: 0.5744 - accuracy: 0.7138 - val_loss: 0.6447 - val_accuracy: 0.6774\n",
            "Epoch 58/100\n",
            "18/18 [==============================] - 0s 4ms/step - loss: 0.5748 - accuracy: 0.7156 - val_loss: 0.6324 - val_accuracy: 0.6774\n",
            "Epoch 59/100\n",
            "18/18 [==============================] - 0s 3ms/step - loss: 0.5700 - accuracy: 0.7373 - val_loss: 0.6388 - val_accuracy: 0.6774\n",
            "Epoch 60/100\n",
            "18/18 [==============================] - 0s 3ms/step - loss: 0.5662 - accuracy: 0.7174 - val_loss: 0.6411 - val_accuracy: 0.6935\n",
            "Epoch 61/100\n",
            "18/18 [==============================] - 0s 3ms/step - loss: 0.5604 - accuracy: 0.7246 - val_loss: 0.6219 - val_accuracy: 0.6452\n",
            "Epoch 62/100\n",
            "18/18 [==============================] - 0s 3ms/step - loss: 0.5657 - accuracy: 0.7428 - val_loss: 0.6373 - val_accuracy: 0.6452\n",
            "Epoch 63/100\n",
            "18/18 [==============================] - 0s 3ms/step - loss: 0.5629 - accuracy: 0.7101 - val_loss: 0.6369 - val_accuracy: 0.7097\n",
            "Epoch 64/100\n",
            "18/18 [==============================] - 0s 5ms/step - loss: 0.5634 - accuracy: 0.7301 - val_loss: 0.6472 - val_accuracy: 0.6774\n",
            "Epoch 65/100\n",
            "18/18 [==============================] - 0s 3ms/step - loss: 0.5551 - accuracy: 0.7319 - val_loss: 0.6330 - val_accuracy: 0.6613\n",
            "Epoch 66/100\n",
            "18/18 [==============================] - 0s 3ms/step - loss: 0.5518 - accuracy: 0.7228 - val_loss: 0.6279 - val_accuracy: 0.6613\n",
            "Epoch 67/100\n",
            "18/18 [==============================] - 0s 4ms/step - loss: 0.5509 - accuracy: 0.7355 - val_loss: 0.6329 - val_accuracy: 0.6452\n",
            "Epoch 68/100\n",
            "18/18 [==============================] - 0s 3ms/step - loss: 0.5471 - accuracy: 0.7464 - val_loss: 0.6264 - val_accuracy: 0.6613\n",
            "Epoch 69/100\n",
            "18/18 [==============================] - 0s 4ms/step - loss: 0.5559 - accuracy: 0.7283 - val_loss: 0.6225 - val_accuracy: 0.6613\n",
            "Epoch 70/100\n",
            "18/18 [==============================] - 0s 4ms/step - loss: 0.5472 - accuracy: 0.7355 - val_loss: 0.6446 - val_accuracy: 0.6129\n",
            "Epoch 71/100\n",
            "18/18 [==============================] - 0s 4ms/step - loss: 0.5519 - accuracy: 0.7283 - val_loss: 0.6272 - val_accuracy: 0.6452\n",
            "Epoch 72/100\n",
            "18/18 [==============================] - 0s 4ms/step - loss: 0.5541 - accuracy: 0.7446 - val_loss: 0.6291 - val_accuracy: 0.6452\n",
            "Epoch 73/100\n",
            "18/18 [==============================] - 0s 4ms/step - loss: 0.5441 - accuracy: 0.7301 - val_loss: 0.6404 - val_accuracy: 0.6452\n",
            "Epoch 74/100\n",
            "18/18 [==============================] - 0s 3ms/step - loss: 0.5415 - accuracy: 0.7301 - val_loss: 0.6399 - val_accuracy: 0.6129\n",
            "Epoch 75/100\n",
            "18/18 [==============================] - 0s 3ms/step - loss: 0.5401 - accuracy: 0.7337 - val_loss: 0.6423 - val_accuracy: 0.6452\n",
            "Epoch 76/100\n",
            "18/18 [==============================] - 0s 4ms/step - loss: 0.5432 - accuracy: 0.7228 - val_loss: 0.6334 - val_accuracy: 0.7097\n",
            "Epoch 77/100\n",
            "18/18 [==============================] - 0s 4ms/step - loss: 0.5356 - accuracy: 0.7337 - val_loss: 0.6389 - val_accuracy: 0.6452\n",
            "Epoch 78/100\n",
            "18/18 [==============================] - 0s 4ms/step - loss: 0.5346 - accuracy: 0.7409 - val_loss: 0.6266 - val_accuracy: 0.6452\n",
            "Epoch 79/100\n",
            "18/18 [==============================] - 0s 4ms/step - loss: 0.5368 - accuracy: 0.7283 - val_loss: 0.6276 - val_accuracy: 0.6935\n",
            "Epoch 80/100\n",
            "18/18 [==============================] - 0s 3ms/step - loss: 0.5480 - accuracy: 0.7337 - val_loss: 0.6300 - val_accuracy: 0.6290\n",
            "Epoch 81/100\n",
            "18/18 [==============================] - 0s 3ms/step - loss: 0.5353 - accuracy: 0.7319 - val_loss: 0.6316 - val_accuracy: 0.6129\n",
            "Epoch 82/100\n",
            "18/18 [==============================] - 0s 4ms/step - loss: 0.5353 - accuracy: 0.7264 - val_loss: 0.6428 - val_accuracy: 0.6935\n",
            "Epoch 83/100\n",
            "18/18 [==============================] - 0s 3ms/step - loss: 0.5365 - accuracy: 0.7319 - val_loss: 0.6401 - val_accuracy: 0.6452\n",
            "Epoch 84/100\n",
            "18/18 [==============================] - 0s 3ms/step - loss: 0.5328 - accuracy: 0.7337 - val_loss: 0.6526 - val_accuracy: 0.6613\n",
            "Epoch 85/100\n",
            "18/18 [==============================] - 0s 3ms/step - loss: 0.5366 - accuracy: 0.7337 - val_loss: 0.6354 - val_accuracy: 0.6452\n",
            "Epoch 86/100\n",
            "18/18 [==============================] - 0s 3ms/step - loss: 0.5302 - accuracy: 0.7409 - val_loss: 0.6250 - val_accuracy: 0.6613\n",
            "Epoch 87/100\n",
            "18/18 [==============================] - 0s 5ms/step - loss: 0.5243 - accuracy: 0.7536 - val_loss: 0.6485 - val_accuracy: 0.6452\n",
            "Epoch 88/100\n",
            "18/18 [==============================] - 0s 3ms/step - loss: 0.5324 - accuracy: 0.7518 - val_loss: 0.6243 - val_accuracy: 0.6774\n",
            "Epoch 89/100\n",
            "18/18 [==============================] - 0s 3ms/step - loss: 0.5239 - accuracy: 0.7409 - val_loss: 0.6451 - val_accuracy: 0.6452\n",
            "Epoch 90/100\n",
            "18/18 [==============================] - 0s 3ms/step - loss: 0.5296 - accuracy: 0.7228 - val_loss: 0.6267 - val_accuracy: 0.6290\n",
            "Epoch 91/100\n",
            "18/18 [==============================] - 0s 3ms/step - loss: 0.5265 - accuracy: 0.7428 - val_loss: 0.6321 - val_accuracy: 0.7258\n",
            "Epoch 92/100\n",
            "18/18 [==============================] - 0s 3ms/step - loss: 0.5338 - accuracy: 0.7482 - val_loss: 0.6352 - val_accuracy: 0.6452\n",
            "Epoch 93/100\n",
            "18/18 [==============================] - 0s 4ms/step - loss: 0.5310 - accuracy: 0.7264 - val_loss: 0.6162 - val_accuracy: 0.7097\n",
            "Epoch 94/100\n",
            "18/18 [==============================] - 0s 3ms/step - loss: 0.5260 - accuracy: 0.7428 - val_loss: 0.6368 - val_accuracy: 0.5968\n",
            "Epoch 95/100\n",
            "18/18 [==============================] - 0s 5ms/step - loss: 0.5416 - accuracy: 0.7228 - val_loss: 0.6308 - val_accuracy: 0.7097\n",
            "Epoch 96/100\n",
            "18/18 [==============================] - 0s 3ms/step - loss: 0.5302 - accuracy: 0.7283 - val_loss: 0.6218 - val_accuracy: 0.7258\n",
            "Epoch 97/100\n",
            "18/18 [==============================] - 0s 3ms/step - loss: 0.5316 - accuracy: 0.7319 - val_loss: 0.6263 - val_accuracy: 0.6290\n",
            "Epoch 98/100\n",
            "18/18 [==============================] - 0s 3ms/step - loss: 0.5254 - accuracy: 0.7446 - val_loss: 0.6284 - val_accuracy: 0.6452\n",
            "Epoch 99/100\n",
            "18/18 [==============================] - 0s 4ms/step - loss: 0.5221 - accuracy: 0.7536 - val_loss: 0.6164 - val_accuracy: 0.6452\n",
            "Epoch 100/100\n",
            "18/18 [==============================] - 0s 3ms/step - loss: 0.5232 - accuracy: 0.7446 - val_loss: 0.6302 - val_accuracy: 0.6452\n"
          ]
        }
      ]
    },
    {
      "cell_type": "code",
      "source": [
        "#plot the training loss and validation loss of the dataset\n",
        "history_df = pd.DataFrame(history.history)\n",
        "plt.plot(history_df['loss'], label='loss')\n",
        "plt.plot(history_df['val_loss'], label='val_loss')\n",
        "plt.legend()"
      ],
      "metadata": {
        "colab": {
          "base_uri": "https://localhost:8080/",
          "height": 283
        },
        "id": "77Wv70wlJpNy",
        "outputId": "fdc3dd7a-5c21-450a-d949-663a7dabb40f"
      },
      "execution_count": null,
      "outputs": [
        {
          "output_type": "execute_result",
          "data": {
            "text/plain": [
              "<matplotlib.legend.Legend at 0x7f820fcff610>"
            ]
          },
          "metadata": {},
          "execution_count": 104
        },
        {
          "output_type": "display_data",
          "data": {
            "image/png": "[encoded data removed]",
            "text/plain": [
              "<Figure size 432x288 with 1 Axes>"
            ]
          },
          "metadata": {
            "needs_background": "light"
          }
        }
      ]
    },
    {
      "cell_type": "code",
      "source": [
        "#plot the train accuracy and validation accuracy of the dataset\n",
        "plt.plot(history_df['accuracy'], label='acc')\n",
        "plt.plot(history_df['val_accuracy'], label='val_acc')\n",
        "plt.legend()"
      ],
      "metadata": {
        "colab": {
          "base_uri": "https://localhost:8080/",
          "height": 283
        },
        "id": "VKqNz55rJybl",
        "outputId": "2cb07b0d-a239-4b2f-fe38-195e99c7bebe"
      },
      "execution_count": null,
      "outputs": [
        {
          "output_type": "execute_result",
          "data": {
            "text/plain": [
              "<matplotlib.legend.Legend at 0x7f820fd35190>"
            ]
          },
          "metadata": {},
          "execution_count": 105
        },
        {
          "output_type": "display_data",
          "data": {
            "image/png": "[encoded data removed]",
            "text/plain": [
              "<Figure size 432x288 with 1 Axes>"
            ]
          },
          "metadata": {
            "needs_background": "light"
          }
        }
      ]
    },
    {
      "cell_type": "code",
      "source": [
        "acc = history.history['accuracy']\n",
        "val_acc = history.history['val_accuracy']\n",
        "loss = history.history['loss']\n",
        "val_loss = history.history['val_loss']\n",
        "\n",
        "epochs_range = range(100)\n",
        "\n",
        "plt.figure(figsize=(30, 15))\n",
        "plt.subplot(2, 2, 1)\n",
        "plt.plot(epochs_range, acc, label='Training Accuracy')\n",
        "plt.plot(epochs_range, val_acc, label='Validation Accuracy')\n",
        "plt.legend(loc='lower right')\n",
        "plt.ylim([-1,1])\n",
        "plt.title('Training and Validation Accuracy')\n",
        "\n",
        "plt.subplot(2, 2, 3)\n",
        "plt.plot(epochs_range, loss, label='Training Loss')\n",
        "plt.plot(epochs_range, val_loss, label='Validation Loss')\n",
        "plt.legend(loc='upper right')\n",
        "plt.ylim([-1,1.0])\n",
        "plt.title('Training and Validation Loss')\n",
        "plt.show()"
      ],
      "metadata": {
        "colab": {
          "base_uri": "https://localhost:8080/",
          "height": 879
        },
        "id": "qP1vT9H3LujN",
        "outputId": "2167da30-e721-41b1-c7bc-9aa3d5dd3784"
      },
      "execution_count": null,
      "outputs": [
        {
          "output_type": "display_data",
          "data": {
            "image/png": "[encoded data removed]",
            "text/plain": [
              "<Figure size 2160x1080 with 2 Axes>"
            ]
          },
          "metadata": {
            "needs_background": "light"
          }
        }
      ]
    },
    {
      "cell_type": "code",
      "source": [
        "#Prediction\n",
        "y_pred = model.predict(X_test)"
      ],
      "metadata": {
        "id": "qabETzGAKNOD"
      },
      "execution_count": null,
      "outputs": []
    },
    {
      "cell_type": "code",
      "source": [
        "#Setting up a threshold value: \n",
        "y_pred = y_pred > 0.5"
      ],
      "metadata": {
        "id": "rxTGapEoQh_f"
      },
      "execution_count": null,
      "outputs": []
    },
    {
      "cell_type": "code",
      "source": [
        "# Conversion to numerical value:\n",
        "pred = y_pred.astype('uint8')"
      ],
      "metadata": {
        "id": "CTTc5kNVQqhA"
      },
      "execution_count": null,
      "outputs": []
    },
    {
      "cell_type": "code",
      "source": [
        "#Classification Report\n",
        "print(classification_report(y_test,y_pred))"
      ],
      "metadata": {
        "colab": {
          "base_uri": "https://localhost:8080/"
        },
        "id": "QkJjn8u5Qyuo",
        "outputId": "501bf616-6cbc-419e-fe2e-d9a40c5f50ba"
      },
      "execution_count": null,
      "outputs": [
        {
          "output_type": "stream",
          "name": "stdout",
          "text": [
            "              precision    recall  f1-score   support\n",
            "\n",
            "           0       0.83      0.84      0.83       107\n",
            "           1       0.62      0.60      0.61        47\n",
            "\n",
            "    accuracy                           0.77       154\n",
            "   macro avg       0.72      0.72      0.72       154\n",
            "weighted avg       0.76      0.77      0.76       154\n",
            "\n"
          ]
        }
      ]
    },
    {
      "cell_type": "code",
      "source": [
        "CONCLUSION: \n",
        "\n",
        "From above result analysis, the following things can be concluded:\n",
        "\n",
        "1. Confusion Matrix analysis of Machine Learning Classifiers: \n",
        "(a) LogisticRegression:- accuracy: 82%; precision: 80%; recall: 77%; f1-score: 75%.\n",
        "(b) K-Nearest Neighbor:- accuracy: 75%; precision: 71%; recall: 72%; f1-score: 71%.\n",
        "(c) Support Vector Machine:- accuracy: 82%; precision: 79%; recall: 76%; f1-score: 77%.\n",
        "(d) DecisionTreeClassifier:- accuracy: 71%; precision: 67%; recall: 69%; f1-score: 67%.\n",
        "(e) RandomForestClassifier:- accuracy: 79%; precision: 75%; recall: 73%; f1-score: 74%.\n",
        "(f) GaussianNB:- accuracy: 79%; precision: 76%; recall: 74%; f1-score: 75%.\n",
        "\n",
        "2. DNN Model evaluation with effective parameters: \n",
        "Number of Hidden Layer: 1 and Number of neuron: 10:- accuracy: 71%; precision: 64%; recall: 58%; f1-score: 58%.   \n",
        "Number of Hidden Layer: 1 and Number of neuron: 20:- accuracy: 69%; precision: 62%; recall: 58%; f1-score: 58%. \n",
        "Number of Hidden Layer: 2 and Number of neuron (layer1): 20 & Number of neuron(layer2): 10:- accuracy: 69%; precision: 62%; recall: 58%; f1-score: 58%. \n",
        "Number of Hidden Layer: 2 and Number of neuron (layer1): 10 & Number of neuron(layer2): 10:- accuracy: 77%; precision: 72%; recall: 72%; f1-score: 72%. \n",
        "\n",
        "The best classification accuracy is found from 'LogisticRegression' and 'Support Vector Machine' classifier and that is 82% accuracy. "
      ],
      "metadata": {
        "id": "UzNktw7HQ9uO"
      },
      "execution_count": null,
      "outputs": []
    }
  ]
}